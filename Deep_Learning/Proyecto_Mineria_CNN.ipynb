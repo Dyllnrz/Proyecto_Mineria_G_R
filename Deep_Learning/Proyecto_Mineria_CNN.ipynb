{
  "cells": [
    {
      "cell_type": "code",
      "execution_count": null,
      "metadata": {
        "id": "Rr7c5IQRZEC5"
      },
      "outputs": [],
      "source": [
        "from google.colab import drive\n",
        "drive.mount('/content/drive')"
      ],
      "id": "Rr7c5IQRZEC5"
    },
    {
      "cell_type": "code",
      "execution_count": null,
      "metadata": {
        "id": "Bd3NRFGraO_P"
      },
      "outputs": [],
      "source": [
        "from tensorflow.keras.preprocessing.image import ImageDataGenerator\n",
        "import warnings\n",
        "warnings.filterwarnings('always')\n",
        "warnings.filterwarnings('ignore')\n",
        "\n",
        "# data visualisation and manipulation\n",
        "import numpy as np\n",
        "import pandas as pd\n",
        "import matplotlib.pyplot as plt\n",
        "from matplotlib import style\n",
        "import seaborn as sns\n",
        " \n",
        "#configure\n",
        "# sets matplotlib to inline and displays graphs below the corressponding cell.\n",
        "%matplotlib inline  \n",
        "style.use('fivethirtyeight')\n",
        "sns.set(style='whitegrid',color_codes=True)\n",
        "\n",
        "#model selection\n",
        "from sklearn.model_selection import train_test_split\n",
        "from sklearn.model_selection import KFold\n",
        "from sklearn.metrics import accuracy_score,precision_score,recall_score,confusion_matrix,roc_curve,roc_auc_score\n",
        "from sklearn.model_selection import GridSearchCV\n",
        "from sklearn.preprocessing import LabelEncoder\n",
        "\n",
        "#preprocess.\n",
        "from keras.preprocessing.image import ImageDataGenerator\n",
        "\n",
        "#dl libraraies\n",
        "from keras import backend as K\n",
        "from keras.models import Sequential\n",
        "from keras.layers import Dense\n",
        "from keras.optimizers import *\n",
        "from tensorflow.keras.utils import to_categorical\n",
        "\n",
        "# specifically for cnn\n",
        "from keras.layers import Dropout, Flatten,Activation\n",
        "from keras.layers import Conv2D, MaxPooling2D, BatchNormalization\n",
        " \n",
        "import tensorflow as tf\n",
        "import random as rn\n"
      ],
      "id": "Bd3NRFGraO_P"
    },
    {
      "cell_type": "code",
      "execution_count": null,
      "metadata": {
        "colab": {
          "base_uri": "https://localhost:8080/"
        },
        "id": "sAF308BTWg0z",
        "outputId": "2aed1ce4-d46c-4d81-ac6c-1fd887126d46"
      },
      "outputs": [
        {
          "name": "stdout",
          "output_type": "stream",
          "text": [
            "Found 4041 images belonging to 2 classes.\n",
            "Found 1009 images belonging to 2 classes.\n",
            "Found 5050 images belonging to 2 classes.\n"
          ]
        }
      ],
      "source": [
        "train_datagen = ImageDataGenerator(rescale=1 / 255.0,\n",
        "                                   rotation_range=20,\n",
        "                                   zoom_range=0.05,\n",
        "                                   width_shift_range=0.05,\n",
        "                                   height_shift_range=0.05,\n",
        "                                   shear_range=0.05,\n",
        "                                   horizontal_flip=True,\n",
        "                                   fill_mode=\"nearest\",\n",
        "                                   validation_split=0.20)\n",
        "\n",
        "test_datagen = ImageDataGenerator(rescale=1 / 255.0,\n",
        "                                  validation_split=0.20)\n",
        "\n",
        "data_dir='/content/drive/MyDrive/Deber/Granadilla_Aument'\n",
        "img_height = 250\n",
        "img_width = 250\n",
        "batch_size = 32\n",
        "\n",
        "train_generator = train_datagen.flow_from_directory(\n",
        "    directory=data_dir,\n",
        "    class_mode='categorical',\n",
        "    color_mode='rgb',\n",
        "    subset=\"training\",\n",
        "    seed=123,\n",
        "    target_size=(img_height, img_width))\n",
        "\n",
        "valid_generator = test_datagen.flow_from_directory(\n",
        "    directory=data_dir,\n",
        "    class_mode='categorical',\n",
        "    color_mode='rgb',\n",
        "    subset=\"validation\",\n",
        "    seed=123,\n",
        "    target_size=(img_height, img_width),\n",
        "    batch_size=batch_size)\n",
        "test_generator = test_datagen.flow_from_directory(\n",
        "    directory=data_dir,\n",
        "    color_mode=\"rgb\",\n",
        "    batch_size=1,\n",
        "    shuffle=False,\n",
        "    seed=42\n",
        ")"
      ],
      "id": "sAF308BTWg0z"
    }
  ],
  "metadata": {
    "accelerator": "GPU",
    "colab": {
      "collapsed_sections": [],
      "name": "Proyecto_Mineria_CNN.ipynb",
      "provenance": []
    },
    "gpuClass": "standard",
    "kernelspec": {
      "display_name": "Python 3 (ipykernel)",
      "language": "python",
      "name": "python3"
    },
    "language_info": {
      "codemirror_mode": {
        "name": "ipython",
        "version": 3
      },
      "file_extension": ".py",
      "mimetype": "text/x-python",
      "name": "python",
      "nbconvert_exporter": "python",
      "pygments_lexer": "ipython3",
      "version": "3.9.12"
    }
  },
  "nbformat": 4,
  "nbformat_minor": 5
}
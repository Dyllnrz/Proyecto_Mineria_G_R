{
  "nbformat": 4,
  "nbformat_minor": 0,
  "metadata": {
    "colab": {
      "name": "Proyecto_Mineria_SVM.ipynb",
      "provenance": [],
      "collapsed_sections": []
    },
    "kernelspec": {
      "name": "python3",
      "display_name": "Python 3"
    },
    "language_info": {
      "name": "python"
    }
  },
  "cells": [
    {
      "cell_type": "markdown",
      "source": [
        "# Librerías"
      ],
      "metadata": {
        "id": "Wtcg-SfXBdKg"
      }
    },
    {
      "cell_type": "code",
      "execution_count": null,
      "metadata": {
        "id": "H7Xauk_gA0vN"
      },
      "outputs": [],
      "source": [
        "'''Importar las librerías necesarias'''\n",
        "import h5py\n",
        "import cv2\n",
        "import numpy as np\n",
        "import pandas as pd\n",
        "from sklearn.model_selection import train_test_split\n",
        "from sklearn.model_selection import GridSearchCV\n",
        "from sklearn import svm\n",
        "from sklearn.metrics import accuracy_score, precision_score, recall_score, f1_score, make_scorer\n",
        "from sklearn.metrics import confusion_matrix\n",
        "import matplotlib.pyplot as plt\n",
        "import seaborn as sn\n",
        "from sklearn.model_selection import cross_validate, KFold\n",
        "from sklearn.ensemble import RandomForestClassifier\n",
        "from itertools import combinations\n",
        "from sklearn.metrics import roc_curve\n",
        "from sklearn.metrics import roc_auc_score\n",
        "from sklearn.model_selection import cross_val_predict"
      ]
    },
    {
      "cell_type": "code",
      "source": [
        "'''Ruta con los archivos de la data ya procesada en formato H5'''\n",
        "test_size    = 0.20\n",
        "seed         = 9\n",
        "h5_color     = './color_features.h5'\n",
        "h5_colorLb   = './color_features_labels.h5'\n",
        "h5_texture   = './textural_features.h5'\n",
        "h5_textureLb = './textural_features_labels.h5'\n",
        "scoring      = {'accuracy' : make_scorer(accuracy_score),\n",
        "                'f1_score' : make_scorer(f1_score, average = 'weighted'), \n",
        "                'precision' : make_scorer(precision_score, average = 'weighted'),\n",
        "                'recall' : make_scorer(recall_score, average = 'weighted')}"
      ],
      "metadata": {
        "id": "_vE70nxHBocu"
      },
      "execution_count": null,
      "outputs": []
    },
    {
      "cell_type": "markdown",
      "source": [
        "# Load Data"
      ],
      "metadata": {
        "id": "-Tv5QAOBCSHF"
      }
    },
    {
      "cell_type": "code",
      "source": [
        "'''Importar el vector de características y las etiquetas entrenadas'''\n",
        "h5f_color   = h5py.File(h5_color, 'r')\n",
        "h5f_colorLb = h5py.File(h5_colorLb, 'r')\n",
        "\n",
        "color_features_string          = h5f_color['Color_Features_Granadilla']\n",
        "color_features_labels_string   = h5f_colorLb['Color_Features_Labels_Granadilla']\n",
        "\n",
        "color_features = np.array(color_features_string)\n",
        "color_features_labels  = np.array(color_features_labels_string)\n",
        "\n",
        "h5f_color.close()\n",
        "h5f_colorLb.close()\n",
        "\n",
        "'''Verificar la forma del vector de características y las etiquetas'''\n",
        "print(\"[STATUS] features shape: {}\".format(color_features.shape))\n",
        "print(\"[STATUS] labels shape: {}\".format(color_features_labels.shape))\n",
        "\n",
        "print(\"[STATUS] training started...\")"
      ],
      "metadata": {
        "colab": {
          "base_uri": "https://localhost:8080/"
        },
        "id": "eXnPQHttCO23",
        "outputId": "f33d3c3c-4cf6-4f28-a0ac-447d53774a09"
      },
      "execution_count": null,
      "outputs": [
        {
          "output_type": "stream",
          "name": "stdout",
          "text": [
            "[STATUS] features shape: (5056, 512)\n",
            "[STATUS] labels shape: (5056,)\n",
            "[STATUS] training started...\n"
          ]
        }
      ]
    },
    {
      "cell_type": "code",
      "source": [
        "'''Importar el vector de características y las etiquetas entrenadas'''\n",
        "h5f_texture  = h5py.File(h5_texture, 'r')\n",
        "h5f_textureLb = h5py.File(h5_textureLb, 'r')\n",
        "\n",
        "textural_features_string          = h5f_texture['Textural_Features_Granadilla']\n",
        "textural_features_labels_string   = h5f_textureLb['Textural_Features_Labels_Granadilla']\n",
        "\n",
        "textural_features = np.array(textural_features_string )\n",
        "textural_features_labels  = np.array(textural_features_labels_string)\n",
        "\n",
        "h5f_texture.close()\n",
        "h5f_textureLb.close()\n",
        "\n",
        "'''Verificar la forma del vector de características y las etiquetas'''\n",
        "print(\"[STATUS] features shape: {}\".format(textural_features.shape))\n",
        "print(\"[STATUS] labels shape: {}\".format(textural_features_labels.shape))\n",
        "\n",
        "print(\"[STATUS] training started...\")"
      ],
      "metadata": {
        "colab": {
          "base_uri": "https://localhost:8080/"
        },
        "id": "OWPq0n_EIJLK",
        "outputId": "eb99b11a-fd52-4656-95dc-19c63c85043b"
      },
      "execution_count": null,
      "outputs": [
        {
          "output_type": "stream",
          "name": "stdout",
          "text": [
            "[STATUS] features shape: (5056, 13)\n",
            "[STATUS] labels shape: (5056,)\n",
            "[STATUS] training started...\n"
          ]
        }
      ]
    },
    {
      "cell_type": "code",
      "source": [
        "'''Definir en una variable las características globales'''\n",
        "global_features = np.hstack([color_features, textural_features])\n",
        "print(\"[STATUS] features shape: {}\".format(global_features.shape))\n",
        "print(\"[STATUS] labels shape: {}\".format(textural_features_labels.shape))"
      ],
      "metadata": {
        "colab": {
          "base_uri": "https://localhost:8080/"
        },
        "id": "rIlbF588IquR",
        "outputId": "e66813e2-e80a-46e5-b979-aa9a6a5acf0c"
      },
      "execution_count": null,
      "outputs": [
        {
          "output_type": "stream",
          "name": "stdout",
          "text": [
            "[STATUS] features shape: (5056, 525)\n",
            "[STATUS] labels shape: (5056,)\n"
          ]
        }
      ]
    },
    {
      "cell_type": "markdown",
      "source": [
        "# Identify X and Y"
      ],
      "metadata": {
        "id": "DDEUdUHVItrh"
      }
    },
    {
      "cell_type": "code",
      "source": [
        "'''Identificar las etiquetas de entrada y salida X y Y'''\n",
        "X = global_features\n",
        "Y = color_features_labels"
      ],
      "metadata": {
        "id": "jIKKQevLItTh"
      },
      "execution_count": null,
      "outputs": []
    },
    {
      "cell_type": "markdown",
      "source": [
        "# Training and Testing"
      ],
      "metadata": {
        "id": "tXtVTSKdJADQ"
      }
    },
    {
      "cell_type": "code",
      "source": [
        "'''Dividir el conjunto de datos en entrenamiento y prueba'''\n",
        "X_train, X_test, y_train, y_test = train_test_split(X, Y,\n",
        "                                        test_size   = test_size,\n",
        "                                        random_state = seed)\n",
        "\n",
        "X_train.shape, X_test.shape"
      ],
      "metadata": {
        "colab": {
          "base_uri": "https://localhost:8080/"
        },
        "id": "_KkGrliYI19Z",
        "outputId": "c8fec3e5-c9a0-4308-a68a-4db95a10b721"
      },
      "execution_count": null,
      "outputs": [
        {
          "output_type": "execute_result",
          "data": {
            "text/plain": [
              "((4044, 525), (1012, 525))"
            ]
          },
          "metadata": {},
          "execution_count": 7
        }
      ]
    }
  ]
}